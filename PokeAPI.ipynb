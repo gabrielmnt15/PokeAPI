{
  "nbformat": 4,
  "nbformat_minor": 0,
  "metadata": {
    "colab": {
      "name": "PokeAPI.ipynb",
      "provenance": [],
      "collapsed_sections": []
    },
    "kernelspec": {
      "name": "python3",
      "display_name": "Python 3"
    },
    "language_info": {
      "name": "python"
    }
  },
  "cells": [
    {
      "cell_type": "code",
      "execution_count": 1,
      "metadata": {
        "id": "wHxxEKDLvjRS"
      },
      "outputs": [],
      "source": [
        "import requests\n",
        "import pandas as pd"
      ]
    },
    {
      "cell_type": "code",
      "source": [
        "# Método que retorna o tipo com base na url do Pokémon\n",
        "def extrair_tipo(url):\n",
        "    resposta = requests.get(url)\n",
        "    conteudo = resposta.json()\n",
        "    tipo = conteudo['types'][0]\n",
        "    return (tipo['type']['name'])"
      ],
      "metadata": {
        "id": "R5wK9X_ivqvA"
      },
      "execution_count": 2,
      "outputs": []
    },
    {
      "cell_type": "code",
      "source": [
        "url = 'https://pokeapi.co/api/v2/pokemon?limit=20'\n",
        "resposta = requests.get(url)\n",
        "conteudo = resposta.json()\n",
        "lista = conteudo['results']\n",
        "\n",
        "# Iterador que cria e preenche uma lista de dicionários com os dados de cada Pokémon \n",
        "pokemons = []\n",
        "for n, pokemon in enumerate(lista):\n",
        "    nome = lista[n]['name']\n",
        "    url = lista[n]['url']\n",
        "    tipo = extrair_tipo(url)\n",
        "    dicio = {'nome': nome, 'tipo': tipo}\n",
        "    pokemons.append(dicio)"
      ],
      "metadata": {
        "id": "81lumyg0v0sA"
      },
      "execution_count": 68,
      "outputs": []
    },
    {
      "cell_type": "code",
      "source": [
        "data = pd.DataFrame(pokemons)\n",
        "ocorrencias = data.groupby(['tipo']).size()\n",
        "\n",
        "dataframepokemons = pd.DataFrame(ocorrencias)\n",
        "dataframepokemons.columns = ['nome']\n",
        "dataframepokemons.plot.pie(y='nome')\n"
      ],
      "metadata": {
        "colab": {
          "base_uri": "https://localhost:8080/",
          "height": 265
        },
        "id": "o9LeKyFbv9Za",
        "outputId": "a37fb328-b137-4d97-bdad-b076ff16d78a"
      },
      "execution_count": 67,
      "outputs": [
        {
          "output_type": "execute_result",
          "data": {
            "text/plain": [
              "<matplotlib.axes._subplots.AxesSubplot at 0x7f793b8ef990>"
            ]
          },
          "metadata": {},
          "execution_count": 67
        },
        {
          "output_type": "display_data",
          "data": {
            "text/plain": [
              "<Figure size 432x288 with 1 Axes>"
            ],
            "image/png": "[encoded data removed]"
          },
          "metadata": {}
        }
      ]
    }
  ]
}